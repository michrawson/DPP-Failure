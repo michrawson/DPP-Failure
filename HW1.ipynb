{
 "cells": [
  {
   "cell_type": "markdown",
   "metadata": {
    "collapsed": true
   },
   "source": [
    "# HW 1\n",
    "# 1."
   ]
  },
  {
   "cell_type": "code",
   "execution_count": 111,
   "metadata": {
    "collapsed": false,
    "scrolled": true
   },
   "outputs": [],
   "source": [
    "import numpy as np\n",
    "import sklearn\n",
    "\n",
    "def F(x):\n",
    "    return 1./2.*np.linalg.norm(np.dot(A,x)-y)**2. + lamb*np.linalg.norm(x,ord=np.inf)\n",
    "\n",
    "def F_prime(x):\n",
    "    return np.dot(A.T, np.dot(A,x)-y)\n",
    "\n",
    "def F_subgradient(x):\n",
    "    return np.dot(A.T, np.dot(A,x)-y) + lamb * np.sign(x)\n",
    "\n",
    "def F_subgradient_coord(x,coord):\n",
    "    return np.dot(A[:,coord], np.dot(A,x)-y) + lamb * np.sign(x[coord])\n",
    "\n",
    "def S(y, beta):\n",
    "    ret = np.zeros(y.shape)\n",
    "    for i in range(len(y)):\n",
    "        if np.abs(y[i]) >= beta:\n",
    "            ret[i] = y[i] - np.sign(y[i])*beta\n",
    "    return ret\n",
    "\n",
    "A = np.random.normal(scale=1,size=(2000,1000))\n",
    "x_true = np.zeros(1000)\n",
    "x_true[0:100] = np.random.normal(scale=1,size=100)\n",
    "z = np.random.normal(scale=.1,size=2000)\n",
    "y = np.dot(A,x_true) + z\n",
    "x_0 = np.random.normal(scale=1,size=1000)\n",
    "step_size_constant = True  # backtrack search otherwise\n",
    "\n",
    "lamb = 100.\n"
   ]
  },
  {
   "cell_type": "markdown",
   "metadata": {},
   "source": [
    "# a) Subgradient Descent"
   ]
  },
  {
   "cell_type": "code",
   "execution_count": 130,
   "metadata": {
    "collapsed": false,
    "scrolled": false
   },
   "outputs": [
    {
     "name": "stdout",
     "output_type": "stream",
     "text": [
      "start obj 1041850.91857\n",
      "end obj 105918.564758\n",
      "true obj 254.247817523\n",
      "sklearn obj 248.916775502\n",
      "1000\n"
     ]
    }
   ],
   "source": [
    "x = np.copy(x_0)\n",
    "print 'start obj',F(x)\n",
    "\n",
    "if not step_size_constant:\n",
    "    step_size = .05\n",
    "else:\n",
    "    alpha = .0001\n",
    "\n",
    "Subgrad_error = []\n",
    "for count in range(100):\n",
    "    if not step_size_constant:\n",
    "        step_size *= 8\n",
    "        while F(x) < F(x - step_size * F_prime(x)):\n",
    "            step_size = step_size/2\n",
    "    else:\n",
    "        step_size = alpha/(count+1)\n",
    "    x = x - step_size * F_subgradient(x)\n",
    "    Subgrad_error.append(F(x))\n",
    "    \n",
    "print 'end obj',F(x)\n",
    "print 'true obj',F(x_true)\n",
    "\n",
    "from sklearn import linear_model\n",
    "p= linear_model.LinearRegression(fit_intercept=False).fit(A, y)\n",
    "print 'sklearn obj',F(p.coef_)\n",
    "\n",
    "print len(x[np.abs(x)>0])\n"
   ]
  },
  {
   "cell_type": "markdown",
   "metadata": {},
   "source": [
    "# b) ISTA"
   ]
  },
  {
   "cell_type": "code",
   "execution_count": 113,
   "metadata": {
    "collapsed": false
   },
   "outputs": [
    {
     "name": "stdout",
     "output_type": "stream",
     "text": [
      "start obj 1041850.91857\n",
      "end obj 493.263723588\n",
      "true obj 254.247817523\n",
      "sklearn obj 248.916775502\n",
      "98\n"
     ]
    }
   ],
   "source": [
    "x = np.copy(x_0)\n",
    "\n",
    "print 'start obj',F(x)\n",
    "\n",
    "if not step_size_constant:\n",
    "    step_size = .001\n",
    "else:\n",
    "    step_size = .0001\n",
    "\n",
    "steps = []\n",
    "ISTA_error = []\n",
    "for count in range(100):\n",
    "    if not step_size_constant:\n",
    "        step_size *= 8\n",
    "        while F(x) < F(S(x - step_size*F_prime(x), step_size*lamb)):\n",
    "            step_size = step_size/2\n",
    "        steps.append(step_size)\n",
    "    x = S(x - step_size*F_prime(x), step_size*lamb)\n",
    "    ISTA_error.append(F(x))\n",
    "\n",
    "# print steps\n",
    "# print np.average(steps)\n",
    "print 'end obj',F(x)\n",
    "print 'true obj',F(x_true)\n",
    "\n",
    "from sklearn import linear_model\n",
    "p = linear_model.LinearRegression(fit_intercept=False).fit(A, y)\n",
    "print 'sklearn obj',F(p.coef_)\n",
    "\n",
    "print len(x[np.abs(x)>0])\n"
   ]
  },
  {
   "cell_type": "markdown",
   "metadata": {},
   "source": [
    "# c) FISTA"
   ]
  },
  {
   "cell_type": "code",
   "execution_count": 114,
   "metadata": {
    "collapsed": false
   },
   "outputs": [
    {
     "name": "stdout",
     "output_type": "stream",
     "text": [
      "start obj 1041850.91857\n",
      "end obj 493.263723588\n",
      "true obj 254.247817523\n",
      "sklearn obj 248.916775502\n",
      "98\n"
     ]
    }
   ],
   "source": [
    "x = np.copy(x_0)\n",
    "z = x\n",
    "print 'start obj',F(x)\n",
    "\n",
    "if not step_size_constant:\n",
    "    step_size = .001\n",
    "else:\n",
    "    step_size = .0001\n",
    "\n",
    "steps = []\n",
    "FISTA_error = []\n",
    "for count in range(100):\n",
    "    if not step_size_constant:\n",
    "        step_size *= 8\n",
    "        while F(x) < F(S(z - step_size*F_prime(z), step_size*lamb)):\n",
    "            step_size = step_size/2\n",
    "        steps.append(step_size)\n",
    "    x_old = x\n",
    "    x = S(z - step_size*F_prime(z), step_size*lamb)\n",
    "    z = x + count/(count+3)*(x - x_old)\n",
    "    FISTA_error.append(F(x))\n",
    "\n",
    "# print steps\n",
    "# print np.average(steps)\n",
    "print 'end obj',F(x)\n",
    "print 'true obj',F(x_true)\n",
    "\n",
    "from sklearn import linear_model\n",
    "p = linear_model.LinearRegression(fit_intercept=False).fit(A, y)\n",
    "print 'sklearn obj',F(p.coef_)\n",
    "\n",
    "print len(x[np.abs(x)>0])\n"
   ]
  },
  {
   "cell_type": "markdown",
   "metadata": {},
   "source": [
    "# d) Coordinate Descent"
   ]
  },
  {
   "cell_type": "code",
   "execution_count": 115,
   "metadata": {
    "collapsed": false,
    "scrolled": true
   },
   "outputs": [
    {
     "name": "stdout",
     "output_type": "stream",
     "text": [
      "start obj 1041850.91857\n",
      "end obj 520.647478439\n",
      "true obj 254.247817523\n",
      "sklearn obj 248.916775502\n",
      "1000\n"
     ]
    }
   ],
   "source": [
    "x = np.copy(x_0)\n",
    "z = x\n",
    "print 'start obj',F(x)\n",
    "\n",
    "if not step_size_constant:\n",
    "    step_size = .01\n",
    "else:\n",
    "    step_size = .0001\n",
    "\n",
    "steps = []\n",
    "Coord_error = []\n",
    "for count in range(100):\n",
    "    for coord in range(len(x)):\n",
    "        if not step_size_constant:\n",
    "            step_size *= 8\n",
    "            x_temp = np.copy(x)\n",
    "            x_temp[coord] = x[coord] - step_size * np.dot(A[:,coord], np.dot(A,x)-y)\n",
    "            while F(x) < F(x_temp):\n",
    "                step_size = step_size/2\n",
    "                x_temp[coord] = x[coord] - step_size * np.dot(A[:,coord], np.dot(A,x)-y)\n",
    "            steps.append(step_size)\n",
    "            \n",
    "            x[coord] = x[coord] - step_size * np.dot(A[:,coord], np.dot(A,x)-y)\n",
    "            \n",
    "        else:\n",
    "            x[coord] = x[coord] - step_size * F_subgradient_coord(x,coord)\n",
    "            \n",
    "#         print F(x)\n",
    "    Coord_error.append(F(x))\n",
    "\n",
    "# print np.average(steps)\n",
    "print 'end obj',F(x)\n",
    "print 'true obj',F(x_true)\n",
    "\n",
    "from sklearn import linear_model\n",
    "p = linear_model.LinearRegression(fit_intercept=False).fit(A, y)\n",
    "print 'sklearn obj',F(p.coef_)\n",
    "\n",
    "print len(x[np.abs(x)>0])\n"
   ]
  },
  {
   "cell_type": "code",
   "execution_count": 132,
   "metadata": {
    "collapsed": false
   },
   "outputs": [
    {
     "data": {
      "text/plain": [
       "<matplotlib.text.Text at 0x114976f10>"
      ]
     },
     "execution_count": 132,
     "metadata": {},
     "output_type": "execute_result"
    },
    {
     "data": {
      "image/png": "[encoded data removed]",
      "text/plain": [
       "<matplotlib.figure.Figure at 0x1132b1290>"
      ]
     },
     "metadata": {},
     "output_type": "display_data"
    }
   ],
   "source": [
    "%matplotlib inline\n",
    "import matplotlib.pyplot as plt\n",
    "\n",
    "fista, = plt.plot(range(100), FISTA_error)\n",
    "ista, = plt.plot(range(100), ISTA_error)\n",
    "subgrad, = plt.plot(range(100), Subgrad_error)\n",
    "coord, = plt.plot(range(100), Coord_error)\n",
    "\n",
    "plt.legend([fista, ista, subgrad, coord], [\"FISTA\", \"ISTA\", \"Subgradient Descent\", \"Coordinate Descent\"])\n",
    "\n",
    "plt.title('Error')\n",
    "plt.xlabel('iterations')\n",
    "plt.ylabel('error')\n"
   ]
  },
  {
   "cell_type": "code",
   "execution_count": 133,
   "metadata": {
    "collapsed": false
   },
   "outputs": [
    {
     "data": {
      "text/plain": [
       "<matplotlib.text.Text at 0x114bdf710>"
      ]
     },
     "execution_count": 133,
     "metadata": {},
     "output_type": "execute_result"
    },
    {
     "data": {
      "image/png": "[encoded data removed]",
      "text/plain": [
       "<matplotlib.figure.Figure at 0x113531f90>"
      ]
     },
     "metadata": {},
     "output_type": "display_data"
    }
   ],
   "source": [
    "%matplotlib inline\n",
    "import matplotlib.pyplot  as pyplot\n",
    "\n",
    "ax = plt.subplot(1, 1, 1)\n",
    "ax.set_yscale('log')\n",
    "\n",
    "fista, = plt.plot(range(100), FISTA_error)\n",
    "ista, = plt.plot(range(100), ISTA_error)\n",
    "subgrad, = plt.plot(range(100), Subgrad_error)\n",
    "coord, = plt.plot(range(100), Coord_error)\n",
    "\n",
    "plt.legend([fista, ista, subgrad, coord], [\"FISTA\", \"ISTA\", \"Subgradient Descent\", \"Coordinate Descent\"])\n",
    "\n",
    "plt.title('Error')\n",
    "plt.xlabel('iterations')\n",
    "plt.ylabel('error')\n"
   ]
  },
  {
   "cell_type": "code",
   "execution_count": 134,
   "metadata": {
    "collapsed": false
   },
   "outputs": [
    {
     "data": {
      "text/plain": [
       "<matplotlib.text.Text at 0x11506f190>"
      ]
     },
     "execution_count": 134,
     "metadata": {},
     "output_type": "execute_result"
    },
    {
     "data": {
      "image/png": "[encoded data removed]",
      "text/plain": [
       "<matplotlib.figure.Figure at 0x112728f50>"
      ]
     },
     "metadata": {},
     "output_type": "display_data"
    }
   ],
   "source": [
    "%matplotlib inline\n",
    "import matplotlib.pyplot  as pyplot\n",
    "\n",
    "ax = plt.subplot(1, 1, 1)\n",
    "ax.set_yscale('log')\n",
    "\n",
    "fista, = plt.plot(range(100), FISTA_error)\n",
    "ista, = plt.plot(range(100), ISTA_error)\n",
    "\n",
    "plt.legend([fista, ista], [\"FISTA\", \"ISTA\"])\n",
    "\n",
    "plt.title('Error')\n",
    "plt.xlabel('iterations')\n",
    "plt.ylabel('error')\n"
   ]
  },
  {
   "cell_type": "markdown",
   "metadata": {},
   "source": [
    "Comments: We see the ISTA and FISTA methods have a very similiar convergence rates. The subgradient method converges very slow with $\\frac{\\alpha}{k}$ step sizes. The coordinate method converges similar to ISTA/FISTA but takes more computation."
   ]
  },
  {
   "cell_type": "code",
   "execution_count": null,
   "metadata": {
    "collapsed": false
   },
   "outputs": [],
   "source": []
  },
  {
   "cell_type": "code",
   "execution_count": null,
   "metadata": {
    "collapsed": true
   },
   "outputs": [],
   "source": []
  }
 ],
 "metadata": {
  "kernelspec": {
   "display_name": "Python 2",
   "language": "python",
   "name": "python2"
  },
  "language_info": {
   "codemirror_mode": {
    "name": "ipython",
    "version": 2
   },
   "file_extension": ".py",
   "mimetype": "text/x-python",
   "name": "python",
   "nbconvert_exporter": "python",
   "pygments_lexer": "ipython2",
   "version": "2.7.11"
  }
 },
 "nbformat": 4,
 "nbformat_minor": 0
}
