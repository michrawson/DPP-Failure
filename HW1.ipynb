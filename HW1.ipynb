{
 "cells": [
  {
   "cell_type": "markdown",
   "metadata": {
    "collapsed": true
   },
   "source": [
    "# HW 1\n",
    "# 1."
   ]
  },
  {
   "cell_type": "code",
   "execution_count": 7,
   "metadata": {
    "collapsed": false,
    "scrolled": true
   },
   "outputs": [],
   "source": [
    "import numpy as np\n",
    "import sklearn\n",
    "\n",
    "def F(x):\n",
    "    return 1./2.*np.linalg.norm(np.dot(A,x)-y)**2. + lamb*np.linalg.norm(x,ord=np.inf)\n",
    "\n",
    "def F_prime(x):\n",
    "    return np.dot(A.T, np.dot(A,x)-y)\n",
    "\n",
    "def F_subgradient(x):\n",
    "    return np.dot(A.T, np.dot(A,x)-y) + lamb * np.sign(x)\n",
    "\n",
    "def F_subgradient_coord(x,coord):\n",
    "    return np.dot(A[:,coord], np.dot(A,x)-y) + lamb * np.sign(x[coord])\n",
    "\n",
    "def S(y, beta):\n",
    "    ret = np.zeros(y.shape)\n",
    "    for i in range(len(y)):\n",
    "        if np.abs(y[i]) >= beta:\n",
    "            ret[i] = y[i] - np.sign(y[i])*beta\n",
    "    return ret\n",
    "\n",
    "A = np.random.normal(scale=1,size=(2000,1000))\n",
    "x_true = np.zeros(1000)\n",
    "x_true[np.random.choice(1000, 100, replace=False)] = np.random.normal(scale=1,size=100)\n",
    "z = np.random.normal(scale=.1,size=2000)\n",
    "y = np.dot(A,x_true) + z\n",
    "x_0 = np.random.normal(scale=1,size=1000)\n",
    "step_size_constant = True  # backtrack search otherwise\n",
    "\n",
    "lamb = 100."
   ]
  },
  {
   "cell_type": "markdown",
   "metadata": {},
   "source": [
    "# a) Subgradient Descent"
   ]
  },
  {
   "cell_type": "code",
   "execution_count": 8,
   "metadata": {
    "collapsed": false,
    "scrolled": false
   },
   "outputs": [
    {
     "name": "stdout",
     "output_type": "stream",
     "text": [
      "start obj 1029154.96167\n",
      "end obj 101223.3346\n",
      "true obj 241.130611944\n",
      "sklearn obj 236.335206938\n",
      "1000\n"
     ]
    }
   ],
   "source": [
    "x = np.copy(x_0)\n",
    "print 'start obj',F(x)\n",
    "\n",
    "if not step_size_constant:\n",
    "    step_size = .05\n",
    "else:\n",
    "    alpha = .0001\n",
    "\n",
    "Subgrad_error = []\n",
    "for count in range(100):\n",
    "    if not step_size_constant:\n",
    "        step_size *= 8\n",
    "        while F(x) < F(x - step_size * F_prime(x)):\n",
    "            step_size = step_size/2\n",
    "    else:\n",
    "        step_size = alpha/(count+1)\n",
    "    x = x - step_size * F_subgradient(x)\n",
    "    Subgrad_error.append(F(x))\n",
    "    \n",
    "print 'end obj',F(x)\n",
    "print 'true obj',F(x_true)\n",
    "\n",
    "from sklearn import linear_model\n",
    "p= linear_model.LinearRegression(fit_intercept=False).fit(A, y)\n",
    "print 'sklearn obj',F(p.coef_)\n",
    "\n",
    "print len(x[np.abs(x)>0])\n"
   ]
  },
  {
   "cell_type": "markdown",
   "metadata": {},
   "source": [
    "# b) ISTA"
   ]
  },
  {
   "cell_type": "code",
   "execution_count": 9,
   "metadata": {
    "collapsed": false
   },
   "outputs": [
    {
     "name": "stdout",
     "output_type": "stream",
     "text": [
      "start obj 1029154.96167\n",
      "end obj 514.067970803\n",
      "true obj 241.130611944\n",
      "sklearn obj 236.335206938\n",
      "98\n"
     ]
    }
   ],
   "source": [
    "x = np.copy(x_0)\n",
    "\n",
    "print 'start obj',F(x)\n",
    "\n",
    "if not step_size_constant:\n",
    "    step_size = .001\n",
    "else:\n",
    "    step_size = .0001\n",
    "\n",
    "steps = []\n",
    "ISTA_error = []\n",
    "for count in range(100):\n",
    "    if not step_size_constant:\n",
    "        step_size *= 8\n",
    "        while F(x) < F(S(x - step_size*F_prime(x), step_size*lamb)):\n",
    "            step_size = step_size/2\n",
    "        steps.append(step_size)\n",
    "    x = S(x - step_size*F_prime(x), step_size*lamb)\n",
    "    ISTA_error.append(F(x))\n",
    "\n",
    "# print steps\n",
    "# print np.average(steps)\n",
    "print 'end obj',F(x)\n",
    "print 'true obj',F(x_true)\n",
    "\n",
    "from sklearn import linear_model\n",
    "p = linear_model.LinearRegression(fit_intercept=False).fit(A, y)\n",
    "print 'sklearn obj',F(p.coef_)\n",
    "\n",
    "print len(x[np.abs(x)>0])\n"
   ]
  },
  {
   "cell_type": "markdown",
   "metadata": {},
   "source": [
    "# c) FISTA"
   ]
  },
  {
   "cell_type": "code",
   "execution_count": 10,
   "metadata": {
    "collapsed": false
   },
   "outputs": [
    {
     "name": "stdout",
     "output_type": "stream",
     "text": [
      "start obj 1029154.96167\n",
      "end obj 514.067970803\n",
      "true obj 241.130611944\n",
      "sklearn obj 236.335206938\n",
      "98\n"
     ]
    }
   ],
   "source": [
    "x = np.copy(x_0)\n",
    "z = x\n",
    "print 'start obj',F(x)\n",
    "\n",
    "if not step_size_constant:\n",
    "    step_size = .001\n",
    "else:\n",
    "    step_size = .0001\n",
    "\n",
    "steps = []\n",
    "FISTA_error = []\n",
    "for count in range(100):\n",
    "    if not step_size_constant:\n",
    "        step_size *= 8\n",
    "        while F(x) < F(S(z - step_size*F_prime(z), step_size*lamb)):\n",
    "            step_size = step_size/2\n",
    "        steps.append(step_size)\n",
    "    x_old = x\n",
    "    x = S(z - step_size*F_prime(z), step_size*lamb)\n",
    "    z = x + count/(count+3)*(x - x_old)\n",
    "    FISTA_error.append(F(x))\n",
    "\n",
    "# print steps\n",
    "# print np.average(steps)\n",
    "print 'end obj',F(x)\n",
    "print 'true obj',F(x_true)\n",
    "\n",
    "from sklearn import linear_model\n",
    "p = linear_model.LinearRegression(fit_intercept=False).fit(A, y)\n",
    "print 'sklearn obj',F(p.coef_)\n",
    "\n",
    "print len(x[np.abs(x)>0])\n"
   ]
  },
  {
   "cell_type": "markdown",
   "metadata": {},
   "source": [
    "# d) Coordinate Descent"
   ]
  },
  {
   "cell_type": "code",
   "execution_count": 11,
   "metadata": {
    "collapsed": false,
    "scrolled": true
   },
   "outputs": [
    {
     "name": "stdout",
     "output_type": "stream",
     "text": [
      "start obj 1029154.96167\n",
      "end obj 548.003215784\n",
      "true obj 241.130611944\n",
      "sklearn obj 236.335206938\n",
      "1000\n"
     ]
    }
   ],
   "source": [
    "x = np.copy(x_0)\n",
    "z = x\n",
    "print 'start obj',F(x)\n",
    "\n",
    "if not step_size_constant:\n",
    "    step_size = .01\n",
    "else:\n",
    "    step_size = .0001\n",
    "\n",
    "steps = []\n",
    "Coord_error = []\n",
    "for count in range(100):\n",
    "    for coord in range(len(x)):\n",
    "        if not step_size_constant:\n",
    "            step_size *= 8\n",
    "            x_temp = np.copy(x)\n",
    "            x_temp[coord] = x[coord] - step_size * np.dot(A[:,coord], np.dot(A,x)-y)\n",
    "            while F(x) < F(x_temp):\n",
    "                step_size = step_size/2\n",
    "                x_temp[coord] = x[coord] - step_size * np.dot(A[:,coord], np.dot(A,x)-y)\n",
    "            steps.append(step_size)\n",
    "            \n",
    "            x[coord] = x[coord] - step_size * np.dot(A[:,coord], np.dot(A,x)-y)\n",
    "            \n",
    "        else:\n",
    "            x[coord] = x[coord] - step_size * F_subgradient_coord(x,coord)\n",
    "            \n",
    "#         print F(x)\n",
    "    Coord_error.append(F(x))\n",
    "\n",
    "# print np.average(steps)\n",
    "print 'end obj',F(x)\n",
    "print 'true obj',F(x_true)\n",
    "\n",
    "from sklearn import linear_model\n",
    "p = linear_model.LinearRegression(fit_intercept=False).fit(A, y)\n",
    "print 'sklearn obj',F(p.coef_)\n",
    "\n",
    "print len(x[np.abs(x)>0])\n"
   ]
  },
  {
   "cell_type": "code",
   "execution_count": 12,
   "metadata": {
    "collapsed": false
   },
   "outputs": [
    {
     "data": {
      "text/plain": [
       "<matplotlib.text.Text at 0x110cea9d0>"
      ]
     },
     "execution_count": 12,
     "metadata": {},
     "output_type": "execute_result"
    },
    {
     "data": {
      "image/png": "[encoded data removed]",
      "text/plain": [
       "<matplotlib.figure.Figure at 0x10d4e5fd0>"
      ]
     },
     "metadata": {},
     "output_type": "display_data"
    }
   ],
   "source": [
    "%matplotlib inline\n",
    "import matplotlib.pyplot as plt\n",
    "\n",
    "fista, = plt.plot(range(100), FISTA_error)\n",
    "ista, = plt.plot(range(100), ISTA_error)\n",
    "subgrad, = plt.plot(range(100), Subgrad_error)\n",
    "coord, = plt.plot(range(100), Coord_error)\n",
    "\n",
    "plt.legend([fista, ista, subgrad, coord], [\"FISTA\", \"ISTA\", \"Subgradient Descent\", \"Coordinate Descent\"])\n",
    "\n",
    "plt.title('Error')\n",
    "plt.xlabel('iterations')\n",
    "plt.ylabel('error')\n"
   ]
  },
  {
   "cell_type": "code",
   "execution_count": 14,
   "metadata": {
    "collapsed": false
   },
   "outputs": [
    {
     "data": {
      "text/plain": [
       "<matplotlib.text.Text at 0x110e32790>"
      ]
     },
     "execution_count": 14,
     "metadata": {},
     "output_type": "execute_result"
    },
    {
     "data": {
      "image/png": "[encoded data removed]",
      "text/plain": [
       "<matplotlib.figure.Figure at 0x107fbaf10>"
      ]
     },
     "metadata": {},
     "output_type": "display_data"
    }
   ],
   "source": [
    "%matplotlib inline\n",
    "import matplotlib.pyplot  as pyplot\n",
    "\n",
    "ax = plt.subplot(1, 1, 1)\n",
    "ax.set_yscale('log')\n",
    "\n",
    "fista, = plt.plot(range(100), FISTA_error)\n",
    "ista, = plt.plot(range(100), ISTA_error)\n",
    "subgrad, = plt.plot(range(100), Subgrad_error)\n",
    "coord, = plt.plot(range(100), Coord_error)\n",
    "\n",
    "plt.legend([fista, ista, subgrad, coord], [\"FISTA\", \"ISTA\", \"Subgradient Descent\", \"Coordinate Descent\"])\n",
    "\n",
    "plt.title('Error')\n",
    "plt.xlabel('iterations')\n",
    "plt.ylabel('error')\n"
   ]
  },
  {
   "cell_type": "code",
   "execution_count": 15,
   "metadata": {
    "collapsed": false
   },
   "outputs": [
    {
     "data": {
      "text/plain": [
       "<matplotlib.text.Text at 0x1112c4c90>"
      ]
     },
     "execution_count": 15,
     "metadata": {},
     "output_type": "execute_result"
    },
    {
     "data": {
      "image/png": "[encoded data removed]",
      "text/plain": [
       "<matplotlib.figure.Figure at 0x103fd0450>"
      ]
     },
     "metadata": {},
     "output_type": "display_data"
    }
   ],
   "source": [
    "%matplotlib inline\n",
    "import matplotlib.pyplot  as pyplot\n",
    "\n",
    "ax = plt.subplot(1, 1, 1)\n",
    "ax.set_yscale('log')\n",
    "\n",
    "fista, = plt.plot(range(100), FISTA_error)\n",
    "ista, = plt.plot(range(100), ISTA_error)\n",
    "\n",
    "plt.legend([fista, ista], [\"FISTA\", \"ISTA\"])\n",
    "\n",
    "plt.title('Error')\n",
    "plt.xlabel('iterations')\n",
    "plt.ylabel('error')\n"
   ]
  },
  {
   "cell_type": "markdown",
   "metadata": {},
   "source": [
    "We see the ISTA and FISTA methods have a very similiar convergence rates. The subgradient method converges very slow with $\\frac{\\alpha}{k}$ step sizes. The coordinate method converges similar to ISTA/FISTA but takes much more computation (factor of length of x)."
   ]
  },
  {
   "cell_type": "markdown",
   "metadata": {
    "collapsed": false
   },
   "source": [
    "# 2."
   ]
  },
  {
   "cell_type": "markdown",
   "metadata": {},
   "source": [
    "<img src=\"Signal.png\">\n",
    "<img src=\"ignoring_noise.png\">"
   ]
  },
  {
   "cell_type": "markdown",
   "metadata": {
    "collapsed": true
   },
   "source": [
    "# a) tv_denoising.m"
   ]
  },
  {
   "cell_type": "markdown",
   "metadata": {},
   "source": [
    "    function est = tv_denoising(F, data, n, lambda)\n",
    "\n",
    "    cvx_begin  \n",
    "        variable est(n,1);\n",
    "        minimize( pow_pos(norm(F*est - data, 2),2) ...\n",
    "            + lambda * norm(est(1:n-1)-est(2:n),1))\n",
    "    cvx_end"
   ]
  },
  {
   "cell_type": "markdown",
   "metadata": {},
   "source": [
    "We observe that as lambda gets small, ex. $\\texttt{lambda} = 10^{-5}$, we converge to the least squares minimum which is just $F^{-1}\\texttt{data}$.\n",
    "<img src=\"small_lambda.png\">\n"
   ]
  },
  {
   "cell_type": "markdown",
   "metadata": {},
   "source": [
    "As lambda grows large, ex. $\\texttt{lambda} = 10^{5}$, we converge to a flat line with $\\texttt{TV(est)} = 0$.\n",
    "<img src=\"large_lambda.png\">\n"
   ]
  },
  {
   "cell_type": "markdown",
   "metadata": {},
   "source": [
    "When lambda is at some reasonable value, ex. $\\texttt{lambda} = 1.0$, then we approximately reconstruct the signal.\n",
    "<img src=\"medium_lambda.png\">\n"
   ]
  },
  {
   "cell_type": "markdown",
   "metadata": {},
   "source": [
    "# b) min_norm_estimate.m"
   ]
  },
  {
   "cell_type": "markdown",
   "metadata": {},
   "source": [
    "    function est = min_norm_estimate(F, data, n)\n",
    "\n",
    "    cvx_begin  \n",
    "        variable est(n,1) complex;\n",
    "        minimize( norm(est, 2) )\n",
    "        subject to\n",
    "            F*est == data;\n",
    "    cvx_end"
   ]
  },
  {
   "cell_type": "markdown",
   "metadata": {},
   "source": [
    "We observe that the estimate looks nothing like the signal. This is not too surprising since we have an underdetermined problem and there are infinite solutions.\n",
    "\n",
    "<img src=\"reg_under_l2.png\">\n"
   ]
  },
  {
   "cell_type": "markdown",
   "metadata": {},
   "source": [
    "# c)"
   ]
  },
  {
   "cell_type": "markdown",
   "metadata": {},
   "source": [
    "From $ Fx = y $ we break $F$ and $x$ into components.\n",
    "$$ [F F] [x_1 x_2]^T = y $$\n",
    "Then\n",
    "$$ F x_1 + F x_2 = y $$\n",
    "$$ F (x_1 + x_2) = y $$\n",
    "$$ x_1 + x_2 = F^{-1} y $$\n",
    "\n",
    "This tells us that $x_1 + x_2$ is determined. The only freedom is the weight between $x_1$ and $x_2$. So minimizing $\\|x\\|_2$ will just let $x_1 = x_2$."
   ]
  },
  {
   "cell_type": "markdown",
   "metadata": {},
   "source": [
    "# d) min_tv_estimate.m"
   ]
  },
  {
   "cell_type": "markdown",
   "metadata": {},
   "source": [
    "    function est = min_tv_estimate(F, data, n)\n",
    "\n",
    "    cvx_begin  \n",
    "        variable est(n,1) complex;\n",
    "        minimize( norm(est(1:n-1)-est(2:n),1) )\n",
    "        subject to\n",
    "            F*est == data;\n",
    "    cvx_end"
   ]
  },
  {
   "cell_type": "markdown",
   "metadata": {},
   "source": [
    "If we are to change the objective function to minimize $\\texttt{TV}(x)$ then the local minimum might be reached where $x_{1_{\\texttt{last}}} = x_{2_{\\texttt{first}}}$. A smaller minimum is where $x_1$ or $x_2$ equals $0$. This still does not do well at constructing the signal.\n",
    "\n",
    "<img src=\"reg_under_tv.png\">\n"
   ]
  },
  {
   "cell_type": "markdown",
   "metadata": {},
   "source": [
    "# e)"
   ]
  },
  {
   "cell_type": "markdown",
   "metadata": {},
   "source": [
    "We note that the randomly undersampled Fourier transform matrix likely doesn't have duplicate columns. This leaves an under-determined problem. Minimizing different objectives gives very different results. But minimizing $\\texttt{TV}(x)$ gives a good approximation of the signal.\n",
    "\n",
    "<img src=\"rand_under_l2.png\">\n",
    "\n",
    "<img src=\"rand_under_tv.png\">\n"
   ]
  },
  {
   "cell_type": "markdown",
   "metadata": {},
   "source": []
  },
  {
   "cell_type": "code",
   "execution_count": null,
   "metadata": {
    "collapsed": true
   },
   "outputs": [],
   "source": []
  }
 ],
 "metadata": {
  "kernelspec": {
   "display_name": "Python 2",
   "language": "python",
   "name": "python2"
  },
  "language_info": {
   "codemirror_mode": {
    "name": "ipython",
    "version": 2
   },
   "file_extension": ".py",
   "mimetype": "text/x-python",
   "name": "python",
   "nbconvert_exporter": "python",
   "pygments_lexer": "ipython2",
   "version": "2.7.11"
  }
 },
 "nbformat": 4,
 "nbformat_minor": 0
}
