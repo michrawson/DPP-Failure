{
 "cells": [
  {
   "cell_type": "code",
   "execution_count": 11,
   "metadata": {
    "collapsed": false,
    "scrolled": false
   },
   "outputs": [
    {
     "ename": "SystemExit",
     "evalue": "0",
     "output_type": "error",
     "traceback": [
      "\u001b[0;31m---------------------------------------------------------------------------\u001b[0m",
      "\u001b[0;31mSystemExit\u001b[0m                                Traceback (most recent call last)",
      "\u001b[0;32m<ipython-input-9-f7492a6ac2f8>\u001b[0m in \u001b[0;36m<module>\u001b[0;34m()\u001b[0m\n\u001b[1;32m     20\u001b[0m \u001b[0mA_inv\u001b[0m \u001b[0;34m=\u001b[0m \u001b[0mnp\u001b[0m\u001b[0;34m.\u001b[0m\u001b[0mlinalg\u001b[0m\u001b[0;34m.\u001b[0m\u001b[0mpinv\u001b[0m\u001b[0;34m(\u001b[0m\u001b[0mA\u001b[0m\u001b[0;34m)\u001b[0m\u001b[0;34m\u001b[0m\u001b[0m\n\u001b[1;32m     21\u001b[0m \u001b[0;34m\u001b[0m\u001b[0m\n\u001b[0;32m---> 22\u001b[0;31m \u001b[0msys\u001b[0m\u001b[0;34m.\u001b[0m\u001b[0mexit\u001b[0m\u001b[0;34m(\u001b[0m\u001b[0;36m0\u001b[0m\u001b[0;34m)\u001b[0m\u001b[0;34m\u001b[0m\u001b[0m\n\u001b[0m\u001b[1;32m     23\u001b[0m \u001b[0;34m\u001b[0m\u001b[0m\n\u001b[1;32m     24\u001b[0m \u001b[0menet\u001b[0m \u001b[0;34m=\u001b[0m \u001b[0msklearn\u001b[0m\u001b[0;34m.\u001b[0m\u001b[0mlinear_model\u001b[0m\u001b[0;34m.\u001b[0m\u001b[0mLasso\u001b[0m\u001b[0;34m(\u001b[0m\u001b[0malpha\u001b[0m\u001b[0;34m=\u001b[0m\u001b[0;36m.05\u001b[0m\u001b[0;34m,\u001b[0m \u001b[0mmax_iter\u001b[0m\u001b[0;34m=\u001b[0m\u001b[0;36m10000\u001b[0m\u001b[0;34m,\u001b[0m \u001b[0mfit_intercept\u001b[0m\u001b[0;34m=\u001b[0m\u001b[0mFalse\u001b[0m\u001b[0;34m)\u001b[0m\u001b[0;34m\u001b[0m\u001b[0m\n",
      "\u001b[0;31mSystemExit\u001b[0m: 0"
     ]
    },
    {
     "name": "stderr",
     "output_type": "stream",
     "text": [
      "/Users/mich/anaconda/lib/python2.7/site-packages/ipykernel/__main__.py:13: DeprecationWarning: assignment will raise an error in the future, most likely because your index result shape does not match the value array shape. You can use `arr.flat[index] = values` to keep the old behaviour.\n"
     ]
    },
    {
     "name": "stdout",
     "output_type": "stream",
     "text": [
      "7.06962800026 sec\n",
      "94.0\n",
      "6\n",
      "4.67327904701 sec\n",
      "94.0\n",
      "6\n",
      "3.55157399178 sec\n",
      "3180.0\n",
      "14\n",
      "2.92682409286 sec\n",
      "55.0\n",
      "5\n",
      "2.72161483765 sec\n",
      "2275.0\n",
      "7\n"
     ]
    }
   ],
   "source": [
    "%matplotlib inline\n",
    "%tb\n",
    "\n",
    "import time\n",
    "import numpy as np\n",
    "import csv, sys, sklearn, sklearn.linear_model\n",
    "import matplotlib.pyplot as plt\n",
    "\n",
    "x_size = 5000\n",
    "A = np.random.normal(scale=1,size=(2*x_size,x_size))\n",
    "x_true = np.zeros(x_size)\n",
    "x_true[np.random.choice(x_size, 100, replace=False)] = np.random.normal(scale=1,\n",
    "                                                                        size=x_size)\n",
    "# z = np.random.normal(scale=.1,size=2*x_size)\n",
    "y = np.dot(A,x_true) # + z\n",
    "# x_0 = np.random.normal(scale=1,size=x_size)\n",
    "\n",
    "\n",
    "enet = sklearn.linear_model.Lasso(alpha=.05, max_iter=10000, fit_intercept=False)\n",
    "\n",
    "start = time.time()\n",
    "enet.fit(A, y)\n",
    "end = time.time()\n",
    "\n",
    "print end - start,'sec'\n",
    "\n",
    "print np.sum(np.sign(np.abs(enet.coef_)))\n",
    "print enet.n_iter_\n",
    "\n",
    "enet = sklearn.linear_model.ElasticNet(alpha=.05, max_iter=10000, l1_ratio=.95, \n",
    "                                       fit_intercept=False)\n",
    "\n",
    "start = time.time()\n",
    "enet.fit(A, y)\n",
    "end = time.time()\n",
    "\n",
    "print end - start,'sec'\n",
    "\n",
    "print np.sum(np.sign(np.abs(enet.coef_)))\n",
    "print enet.n_iter_\n"
   ]
  },
  {
   "cell_type": "code",
   "execution_count": 3,
   "metadata": {
    "collapsed": false,
    "scrolled": false
   },
   "outputs": [],
   "source": [
    "%matplotlib inline\n",
    "\n",
    "import numpy as np\n",
    "import csv, sys, sklearn, sklearn.linear_model\n",
    "import matplotlib.pyplot as plt\n",
    "\n",
    "with open('/Users/mich/OBDA/dorothea/dorothea_train.data.txt', 'rb') as csvfile:\n",
    "    csvreader = csv.reader(csvfile, delimiter=' ')\n",
    "\n",
    "    A_list = list()\n",
    "    count_row=0\n",
    "    max_width = 0\n",
    "    for row in csvreader:\n",
    "        count_item=0\n",
    "        A_list.append(list())\n",
    "        for item in row:\n",
    "            if item.strip() != '':\n",
    "                A_list[count_row].append(float(item.strip()))\n",
    "            count_item += 1\n",
    "        \n",
    "        if len(A_list[count_row]) > max_width:\n",
    "            max_width = len(A_list[count_row])\n",
    "            \n",
    "        count_row += 1\n",
    "\n",
    "    X_train = np.zeros((len(A_list),max_width))\n",
    "    \n",
    "    for i in range(len(A_list)):\n",
    "        X_train[i,:len(A_list[i])] = np.asarray(A_list[i], dtype=np.float)\n",
    "\n",
    "with open('/Users/mich/OBDA/dorothea/dorothea_valid.data.txt', 'rb') as csvfile:\n",
    "    csvreader = csv.reader(csvfile, delimiter=' ')\n",
    "\n",
    "    A_list = list()\n",
    "    count_row=0\n",
    "    for row in csvreader:\n",
    "        count_item=0\n",
    "        A_list.append(list())\n",
    "        for item in row:\n",
    "            if item.strip() != '':\n",
    "                A_list[count_row].append(float(item.strip()))\n",
    "            count_item += 1\n",
    "                    \n",
    "        count_row += 1\n",
    "\n",
    "    X_test = np.zeros((len(A_list),max_width))\n",
    "    \n",
    "    for i in range(len(A_list)):\n",
    "        X_test[i,:len(A_list[i])] = np.asarray(A_list[i], dtype=np.float)\n",
    "\n",
    "with open('/Users/mich/OBDA/dorothea/dorothea_train.labels.txt', 'rb') as csvfile:\n",
    "    csvreader = csv.reader(csvfile, delimiter=' ')\n",
    "\n",
    "    y_train = list()\n",
    "    for row in csvreader:\n",
    "        if row[0].strip() != '':\n",
    "            y_train.append(float(row[0].strip()))\n",
    "    y_train = np.asarray(y_train, dtype=np.float)\n",
    "    \n",
    "with open('/Users/mich/OBDA/dorothea/dorothea_valid.labels.txt', 'rb') as csvfile:\n",
    "    csvreader = csv.reader(csvfile, delimiter=' ')\n",
    "\n",
    "    y_test = list()\n",
    "    for row in csvreader:\n",
    "        if row[0].strip() != '':\n",
    "            y_test.append(float(row[0].strip()))\n",
    "    y_test = np.asarray(y_test, dtype=np.float)\n"
   ]
  },
  {
   "cell_type": "code",
   "execution_count": 4,
   "metadata": {
    "collapsed": false
   },
   "outputs": [
    {
     "name": "stdout",
     "output_type": "stream",
     "text": [
      "[0] [0.77997648622288751]\n",
      "[0] [-0.87560979830234298]\n"
     ]
    },
    {
     "data": {
      "image/png": "[encoded data removed]",
      "text/plain": [
       "<matplotlib.figure.Figure at 0x103aca250>"
      ]
     },
     "metadata": {},
     "output_type": "display_data"
    }
   ],
   "source": [
    "enet = sklearn.linear_model.ElasticNet(max_iter=10000, l1_ratio=.95)\n",
    "enet.fit(X_train, y_train)\n",
    "train_errors = list()\n",
    "test_errors = list()\n",
    "train_errors.append(enet.score(X_train, y_train))\n",
    "test_errors.append(enet.score(X_test, y_test))\n",
    "\n",
    "plt.plot(range(len(train_errors)), train_errors, range(len(test_errors)), test_errors)\n",
    "print range(len(train_errors)), train_errors\n",
    "print range(len(test_errors)), test_errors"
   ]
  },
  {
   "cell_type": "code",
   "execution_count": 5,
   "metadata": {
    "collapsed": false
   },
   "outputs": [
    {
     "name": "stdout",
     "output_type": "stream",
     "text": [
      "[0] [0.87769726841625562]\n",
      "[0] [-1.7394536770881768]\n"
     ]
    },
    {
     "data": {
      "image/png": "[encoded data removed]",
      "text/plain": [
       "<matplotlib.figure.Figure at 0x118c0d690>"
      ]
     },
     "metadata": {},
     "output_type": "display_data"
    }
   ],
   "source": [
    "enet = sklearn.linear_model.ElasticNet(max_iter=10000, l1_ratio=.05)\n",
    "enet.fit(X_train, y_train)\n",
    "train_errors = list()\n",
    "test_errors = list()\n",
    "train_errors.append(enet.score(X_train, y_train))\n",
    "test_errors.append(enet.score(X_test, y_test))\n",
    "\n",
    "plt.plot(range(len(train_errors)), train_errors, range(len(test_errors)), test_errors)\n",
    "print range(len(train_errors)), train_errors\n",
    "print range(len(test_errors)), test_errors"
   ]
  },
  {
   "cell_type": "code",
   "execution_count": null,
   "metadata": {
    "collapsed": false
   },
   "outputs": [],
   "source": []
  },
  {
   "cell_type": "code",
   "execution_count": null,
   "metadata": {
    "collapsed": true
   },
   "outputs": [],
   "source": []
  }
 ],
 "metadata": {
  "kernelspec": {
   "display_name": "Python 2",
   "language": "python",
   "name": "python2"
  },
  "language_info": {
   "codemirror_mode": {
    "name": "ipython",
    "version": 2
   },
   "file_extension": ".py",
   "mimetype": "text/x-python",
   "name": "python",
   "nbconvert_exporter": "python",
   "pygments_lexer": "ipython2",
   "version": "2.7.11"
  }
 },
 "nbformat": 4,
 "nbformat_minor": 0
}
