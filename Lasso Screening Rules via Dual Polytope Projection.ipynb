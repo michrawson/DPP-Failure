{
 "cells": [
  {
   "cell_type": "code",
   "execution_count": null,
   "metadata": {
    "collapsed": true
   },
   "outputs": [],
   "source": [
    "import numpy as np\n",
    "import sklearn\n",
    "\n",
    "enet = sklearn.linear_model.ElasticNet()\n",
    "enet.fit(X_train, y_train)\n",
    "train_errors = list()\n",
    "test_errors = list()\n",
    "train_errors.append(enet.score(X_train, y_train))\n",
    "test_errors.append(enet.score(X_test, y_test))\n"
   ]
  },
  {
   "cell_type": "code",
   "execution_count": null,
   "metadata": {
    "collapsed": false
   },
   "outputs": [],
   "source": [
    "%matplotlib inline\n",
    "\n",
    "print(__doc__)\n",
    "\n",
    "# Author: Alexandre Gramfort <alexandre.gramfort@inria.fr>\n",
    "# License: BSD 3 clause\n",
    "\n",
    "import numpy as np\n",
    "from sklearn import linear_model\n",
    "\n",
    "###############################################################################\n",
    "# Generate sample data\n",
    "n_samples_train, n_samples_test, n_features = 75, 150, 500\n",
    "np.random.seed(0)\n",
    "coef = np.random.randn(n_features)\n",
    "coef[50:] = 0.0  # only the top 10 features are impacting the model\n",
    "X = np.random.randn(n_samples_train + n_samples_test, n_features)\n",
    "y = np.dot(X, coef)\n",
    "\n",
    "# Split train and test data\n",
    "X_train, X_test = X[:n_samples_train], X[n_samples_train:]\n",
    "y_train, y_test = y[:n_samples_train], y[n_samples_train:]\n",
    "\n",
    "###############################################################################\n",
    "# Compute train and test errors\n",
    "alphas = np.logspace(-5, 1, 60)\n",
    "enet = linear_model.ElasticNet(l1_ratio=0.7)\n",
    "train_errors = list()\n",
    "test_errors = list()\n",
    "for alpha in alphas:\n",
    "    enet.set_params(alpha=alpha)\n",
    "    enet.fit(X_train, y_train)\n",
    "    train_errors.append(enet.score(X_train, y_train))\n",
    "    test_errors.append(enet.score(X_test, y_test))\n",
    "\n",
    "i_alpha_optim = np.argmax(test_errors)\n",
    "alpha_optim = alphas[i_alpha_optim]\n",
    "print(\"Optimal regularization parameter : %s\" % alpha_optim)\n",
    "\n",
    "# Estimate the coef_ on full data with optimal regularization parameter\n",
    "enet.set_params(alpha=alpha_optim)\n",
    "coef_ = enet.fit(X, y).coef_\n",
    "\n",
    "###############################################################################\n",
    "# Plot results functions\n",
    "\n",
    "import matplotlib.pyplot as plt\n",
    "plt.subplot(2, 1, 1)\n",
    "plt.semilogx(alphas, train_errors, label='Train')\n",
    "plt.semilogx(alphas, test_errors, label='Test')\n",
    "plt.vlines(alpha_optim, plt.ylim()[0], np.max(test_errors), color='k',\n",
    "           linewidth=3, label='Optimum on test')\n",
    "plt.legend(loc='lower left')\n",
    "plt.ylim([0, 1.2])\n",
    "plt.xlabel('Regularization parameter')\n",
    "plt.ylabel('Performance')\n",
    "\n",
    "# Show estimated coef_ vs true coef\n",
    "plt.subplot(2, 1, 2)\n",
    "plt.plot(coef, label='True coef')\n",
    "plt.plot(coef_, label='Estimated coef')\n",
    "plt.legend()\n",
    "plt.subplots_adjust(0.09, 0.04, 0.94, 0.94, 0.26, 0.26)\n",
    "plt.show()"
   ]
  },
  {
   "cell_type": "code",
   "execution_count": null,
   "metadata": {
    "collapsed": true
   },
   "outputs": [],
   "source": []
  }
 ],
 "metadata": {
  "kernelspec": {
   "display_name": "Python 2",
   "language": "python",
   "name": "python2"
  },
  "language_info": {
   "codemirror_mode": {
    "name": "ipython",
    "version": 2
   },
   "file_extension": ".py",
   "mimetype": "text/x-python",
   "name": "python",
   "nbconvert_exporter": "python",
   "pygments_lexer": "ipython2",
   "version": "2.7.11"
  }
 },
 "nbformat": 4,
 "nbformat_minor": 0
}
